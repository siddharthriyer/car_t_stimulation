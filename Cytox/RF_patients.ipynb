{
 "cells": [
  {
   "cell_type": "code",
   "execution_count": null,
   "id": "80a9cfd9",
   "metadata": {},
   "outputs": [],
   "source": [
    "#Set directory\n",
    "setwd(\"\")"
   ]
  },
  {
   "cell_type": "code",
   "execution_count": null,
   "id": "4f076ede",
   "metadata": {},
   "outputs": [],
   "source": [
    "library(ggplot2)\n",
    "library(umap)\n",
    "library(gridExtra)\n",
    "library(apeglm)\n",
    "library(igraph)\n",
    "library(pheatmap)\n",
    "library(colorRamps)\n",
    "library(ggrepel)\n",
    "library(dplyr)\n",
    "library(reshape2)\n",
    "library(matlab)\n",
    "library(rdist)\n",
    "library(RColorBrewer)\n",
    "library(factoextra)\n",
    "library(randomForest)\n",
    "library(ranger)\n",
    "library(ggbiplot)\n",
    "library(plotly)\n",
    "library(rfUtilities)\n",
    "library(ggfortify)"
   ]
  },
  {
   "cell_type": "code",
   "execution_count": null,
   "id": "67099b70",
   "metadata": {},
   "outputs": [],
   "source": [
    "#Load directories containing single cell intensities of patient T cells\n",
    "dirs<-list.dirs(\"./\", recursive=FALSE, full.names=TRUE)\n",
    "dirs\n"
   ]
  },
  {
   "cell_type": "code",
   "execution_count": null,
   "id": "b31df202",
   "metadata": {},
   "outputs": [],
   "source": [
    "#Identifying and load .csv files in each directory \n",
    "files<-unlist(lapply(dirs, function(x) list.files(x, full.names=TRUE, pattern=\".csv\")))\n",
    "\n",
    "#Reading files\n",
    "samples<-lapply(files, function(x) read.csv(x, stringsAsFactors = FALSE))\n",
    "                \n",
    "#Removing outliers\n",
    "#Scaling daata\n",
    "samples_scaled<-lapply(samples, function(x) as.data.frame(scale(x, center=TRUE)))\n",
    "\n",
    "#Identifying outliers. Outliers are defined as standard deviation greater than 3 or less than -3\n",
    "outliers<-lapply(samples_scaled, function(y) unique(unlist(lapply(1:ncol(samples_scaled[[1]]), function(x) which(y[,x]>3|y[,x]<(-3)))))) \n",
    "\n",
    "#Filtering data to remove outliers\n",
    "samples_filtered<-lapply(1:length(outliers), function(x) samples[[x]][-outliers[[x]],])\n",
    "                        \n",
    "#Downsampling to 2000 cells per condition\n",
    "set.seed(1234)\n",
    "samples_sampled<-lapply(samples_filtered, function(x) x[sample(nrow(x), 800),])\n",
    "                        \n",
    "#Determining file names. The function extracts names from the .csv filenames\n",
    "filenames<-sapply(files, function(x) paste(strsplit(x, \"_\")[[1]][3], strsplit(x, \"_\")[[1]][4], sep=\"_\")) \n",
    "                  \n",
    "#Annotating samples\n",
    "samples_Ann<-lapply(1:length(filenames), function(x) data.frame(samples_sampled[[x]], condition=filenames[x], stringsAsFactors = FALSE))\n",
    "\n",
    "#Renaming column names with marker names\n",
    "for(i in 1:length(samples_Ann)){\n",
    "   colnames(samples_Ann[[i]])<-c(\"FSC-A\", \"FSC-H\", \"SSC-A\", \"SSC-H\",\"CCR7\", \"CD8\", \"CD4\", \"CD25\" ,\"tEGFR\", \"LD\", \"PD1\", \"CD137\", \"CD45RA\", \"CD95\", \"TIM3\", \"CD3\", \"condition\")\n",
    "    }\n",
    "\n",
    "#Combining the various conditions into one dataframe\n",
    "samples_combined<-lapply(samples_Ann, function(x) as.data.frame(x))%>% bind_rows()"
   ]
  },
  {
   "cell_type": "code",
   "execution_count": null,
   "id": "661e0df6",
   "metadata": {},
   "outputs": [],
   "source": [
    "#Running Kmeans\n",
    "#the function below runs kmeans with increasing k from from k=2 to k=330. To save time and computation, different intervals are used \n",
    "kmeans_analysis<-lapply(c(seq(from = 2, to = 18, by = 2), seq(from = 20, to = 270, by = 50), seq(from = 290, to = 330, by = 20)), function(x) kmeans(samples_combined[,c(5:8,11:15)], x, iter.max=1000, nstart=100))\n",
    "\n",
    "#the function below extracts the cluster number assigned to each cell for the interative kmeans analysis above\n",
    "cell.cluster<-lapply(1:length(kmeans_analysis), function(x) as.factor(kmeans_analysis[[x]]$cluster))\n",
    "\n",
    "#the followng function extracts the cluster centers for the kmeans analysis above\n",
    "cluster.centers<-lapply(1:length(kmeans_analysis), function(x) kmeans_analysis[[x]]$centers)\n"
   ]
  },
  {
   "cell_type": "code",
   "execution_count": null,
   "id": "96deda72",
   "metadata": {},
   "outputs": [],
   "source": [
    "#specifying T cell cytotoxicity values for a given sample and condition\n",
    "cytox_values<-c(93.226, 97.110, 50.946, 41.565, 29.241, 9.754, 51.810, 47.790, 31.791, 31.244, 36.548, 50.116, 60.114, 79.285, 88.656,\n",
    "         79.639,74.055, 33.220, 27.729, 36.016, 25.467, 16.680, 15.218, 9.197, 70.970, 90.839, 96.268, 92.424, 95.323, 66.482)\n",
    "\n",
    "#Creating a dataframe with single cell intensities and the corresponding cytox value for the condition.\n",
    "#The following first assigns each cell with the same cytox value of a given condition\n",
    "cytox<-data.frame(condition=unique(samples_combined$condition), cytox=cytox_values)"
   ]
  },
  {
   "cell_type": "code",
   "execution_count": null,
   "id": "232f3dcc",
   "metadata": {},
   "outputs": [],
   "source": [
    "#This function specifies the cluster a specific cell belongs to from the iterative kmeans performed above\n",
    "samples_cluster<-lapply(1:length(cell.cluster), function(x) data.frame(samples_combined, cluster=cell.cluster[[x]]))\n",
    "\n",
    "#the following functions assign a cytox value for each cell of the iterative kmeans calculation\n",
    "for(i in 1:length(samples_cluster)){\n",
    "samples_cluster[[i]]$Cytox<-rowSums(sapply(1:nrow(cytox), function(x) \n",
    "ifelse(samples_cluster[[i]]$condition==cytox$condition[x], cytox$cytox[x],0)))\n",
    "}\n",
    "       "
   ]
  },
  {
   "cell_type": "code",
   "execution_count": null,
   "id": "f2ef04ab",
   "metadata": {},
   "outputs": [],
   "source": [
    "#writing to file\n",
    "clus<-c(seq(from = 2, to = 18, by = 2), seq(from = 20, to = 270, by = 50), seq(from = 290, to = 330, by = 20))\n",
    "\n",
    "lapply(1:length(samples_cluster), function(x) write.csv(samples_cluster[[x]], \n",
    "paste0(\"./RandomForest_AC/Files_combined_Intensities/Samples_\",paste0(clus[x], \".csv\"))))\n"
   ]
  },
  {
   "cell_type": "code",
   "execution_count": null,
   "id": "7bdf684d",
   "metadata": {},
   "outputs": [],
   "source": [
    "#Extracting stimulation levels for each cell\n",
    "for (i in 1:length(samples_cluster)){\n",
    "samples_cluster[[i]]$Stimulation<-as.numeric(sapply(samples_cluster[[i]]$condition, function(y) paste0(\"0.\", strsplit(y, split=\"_\")[[1]][2])))*10\n",
    "}"
   ]
  },
  {
   "cell_type": "code",
   "execution_count": null,
   "id": "3cbb118a",
   "metadata": {},
   "outputs": [],
   "source": [
    "#Calculating the mean attributes of markers and T cell cytotoxicity per cluster\n",
    "cluster.feature<-lapply(samples_cluster, function(x) as.data.frame(x%>%group_by(cluster)%>%dplyr::summarize_if(is.numeric,mean, na.rm = TRUE)))"
   ]
  },
  {
   "cell_type": "code",
   "execution_count": null,
   "id": "17cca6a9",
   "metadata": {},
   "outputs": [],
   "source": [
    "#Running Random Forest regression on each iterative k-means, with independent variables being the mean marker intensities, and the output being the mean cytox per cluster \n",
    "rf_classifier <- lapply(cluster.feature, function(i) randomForest(x=i[,c(6:9, 12:16)], y=as.numeric(i[,\"Cytox\"]), data=i, ntree=1001, importance=TRUE))\n",
    "\n",
    "#Extracting the pseudo R-squared (rsq) value, which is defined as 1 - mse / Var(y).\n",
    "rf_rsq<-sapply(1:length(rf_classifier), function(x) rf_classifier[[x]]$rsq%>%dplyr::last())\n"
   ]
  },
  {
   "cell_type": "code",
   "execution_count": null,
   "id": "ed26ed8b",
   "metadata": {},
   "outputs": [],
   "source": [
    "#The functions below generate an elbow plot to determine the optimal number of kmeans k clusters.\n",
    "#The optimal number of kmeans clusters is the minimum above which the Random Forest rsq value increases minimally\n",
    "\n",
    "#Extracting cluster numbers from file names and creating a dataframe with cluster number and the corresponding rsq value\n",
    "cluster_number<-clus\n",
    "rf_rsq.df<-data.frame(cluster_number=cluster_number, rsq=rf_rsq)\n",
    "\n",
    "#Generating elbow plot\n",
    "ggplot(rf_rsq.df, aes(x=cluster_number, y=rsq))+geom_point()+geom_line(color=\"red\")+theme_classic()+labs(x=\"Number of Clusters\", y=\"Variance Explained\")+ylim(0,.8)"
   ]
  },
  {
   "cell_type": "code",
   "execution_count": null,
   "id": "f4ea5eb8",
   "metadata": {},
   "outputs": [],
   "source": [
    "#Optimal Numer of clusters=220\n",
    "#Naming various dataframes contained within \"cluster.feature\" with their k cluster\n",
    "names(cluster.feature)<-cluster_number\n",
    "\n",
    "#Specifying the appropriate number of clusters based on the random forest elbow plot\n",
    "x=\"220\"\n",
    "\n",
    "#Selecting dataframe which have the optimal k clusters \n",
    "cluster.feature_optimum<-cluster.feature[[x]]"
   ]
  },
  {
   "cell_type": "code",
   "execution_count": null,
   "id": "92d8332d",
   "metadata": {},
   "outputs": [],
   "source": [
    "#Scaling columns to categorize into high, medium and low cytox\n",
    "cluster.feature_optimum.scale<-as.data.frame(scale(cluster.feature_optimum[,c(6:9,12:16,18,19)]))\n",
    "cluster.feature_optimum.scale$cluster<-paste(\"Clus\", cluster.feature_optimum$cluster, sep=\"_\")\n",
    "\n",
    "#Group Clusters by Low, Medium, High Cytox\n",
    "cluster.feature_optimum.scale$Level<-ifelse(cluster.feature_optimum.scale$Cytox<=(-1), \"Low\", ifelse(cluster.feature_optimum.scale$Cytox>=1, \"High\", \"Moderate\"))\n",
    "\n",
    "#Finding characterstic marker expression for High, Moderate and Low cytox\n",
    "marker_cytox<-as.data.frame(cluster.feature_optimum.scale%>%group_by(Level)%>%summarise_if(is.numeric, mean))\n",
    "rownames(marker_cytox)<-marker_cytox$Level\n",
    "marker_cytox$Level<-factor(marker_cytox$Level, levels=c(\"High\", \"Moderate\", \"Low\"))\n",
    "\n",
    "#Arranging rows according to cytox levels and plotting\n",
    "marker_cytox<-marker_cytox[levels(marker_cytox$Level),]\n",
    "marker_cytox<-data.frame(marker_cytox[, c(1:10)], marker_cytox[, c(\"Stimulation\", \"Cytox\")])\n",
    "\n",
    "pheatmap(marker_cytox[,c(2:11)], scale=\"none\", fontsize_col = 11, fontsize_row = 10, color = colorRampPalette(rev(brewer.pal(n = 11, name =\"RdYlBu\")))(1000), cluster_cols=FALSE, cluster_rows=FALSE, border_color=NA, cellwidth=30, cellheight=30)\n"
   ]
  },
  {
   "cell_type": "code",
   "execution_count": null,
   "id": "2fa5b12d",
   "metadata": {},
   "outputs": [],
   "source": [
    "#Plotting heatmaps without grouping according to High, Medium or Low cytox\n",
    "cluster.feature_optimum.scale.order<-cluster.feature_optimum.scale%>%dplyr::arrange(desc(Cytox))\n",
    "cluster.feature_optimum.scale.order<-data.frame(cluster.feature_optimum.scale.order[, c(1:9)],cluster.feature_optimum.scale.order[, c(\"Stimulation\", \"Cytox\")])\n",
    "\n",
    "pheatmap(cluster.feature_optimum.scale.order[,c(1:11)], scale=\"none\", fontsize_col = 11, fontsize_row = 10, color = colorRampPalette(rev(brewer.pal(n = 11, name =\"RdYlBu\")))(1000), cluster_cols=FALSE, cluster_rows=FALSE, border_color=NA, cellwidth=30, show_rownames=FALSE)"
   ]
  }
 ],
 "metadata": {
  "kernelspec": {
   "display_name": "R [conda env:Anaconda3]",
   "language": "R",
   "name": "conda-env-Anaconda3-r"
  },
  "language_info": {
   "codemirror_mode": "r",
   "file_extension": ".r",
   "mimetype": "text/x-r-source",
   "name": "R",
   "pygments_lexer": "r",
   "version": "3.6.1"
  }
 },
 "nbformat": 4,
 "nbformat_minor": 5
}
